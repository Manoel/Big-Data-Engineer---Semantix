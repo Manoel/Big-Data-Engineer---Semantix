{
 "cells": [
  {
   "cell_type": "markdown",
   "metadata": {},
   "source": [
    "## Exercício DStream - Leitura de Dados"
   ]
  },
  {
   "cell_type": "markdown",
   "metadata": {},
   "source": [
    "### Correção de Exercício DStream - Leitura de Dados"
   ]
  },
  {
   "cell_type": "markdown",
   "metadata": {},
   "source": [
    "### 1. Instalar o NetCat no container do spark"
   ]
  },
  {
   "cell_type": "markdown",
   "metadata": {},
   "source": [
    "* apt update\n",
    "* apt install netcat"
   ]
  },
  {
   "cell_type": "markdown",
   "metadata": {},
   "source": [
    "### 2. Criar uma aplicação para ler os dados da porta 9999 e exibir no console"
   ]
  },
  {
   "cell_type": "code",
   "execution_count": 1,
   "metadata": {},
   "outputs": [],
   "source": [
    "from pyspark import SparkContext\n",
    "from pyspark.streaming import StreamingContext\n",
    "from time import sleep"
   ]
  },
  {
   "cell_type": "code",
   "execution_count": 2,
   "metadata": {},
   "outputs": [],
   "source": [
    "conf = SparkConf().setMaster(\"local[*]\").setAppName(\"Dstream Python\")\n",
    "sc = SparkContext.getOrCreate(conf)\n",
    "ssc = StreamingContext(sc, 5)"
   ]
  },
  {
   "cell_type": "code",
   "execution_count": 3,
   "metadata": {},
   "outputs": [],
   "source": [
    "dstream = ssc.socketTextStream(\"localhost\", 9999)"
   ]
  },
  {
   "cell_type": "code",
   "execution_count": 4,
   "metadata": {},
   "outputs": [],
   "source": [
    "dstream.pprint()"
   ]
  },
  {
   "cell_type": "code",
   "execution_count": 5,
   "metadata": {},
   "outputs": [
    {
     "name": "stdout",
     "output_type": "stream",
     "text": [
      "-------------------------------------------\n",
      "Time: 2022-04-19 21:41:25\n",
      "-------------------------------------------\n",
      "ola\n",
      "tudo bem\n",
      "Manoel\n",
      "oi\n",
      "\n",
      "-------------------------------------------\n",
      "Time: 2022-04-19 21:41:30\n",
      "-------------------------------------------\n",
      "heita\n",
      "tudo certo\n",
      "\n",
      "-------------------------------------------\n",
      "Time: 2022-04-19 21:41:35\n",
      "-------------------------------------------\n",
      "por ai\n",
      "meu\n",
      "amigo\n",
      "\n",
      "-------------------------------------------\n",
      "Time: 2022-04-19 21:41:40\n",
      "-------------------------------------------\n",
      "\n"
     ]
    }
   ],
   "source": [
    "# Antes de executar o comando abaixo, teremos que executar este comando no terminal primeiro.\n",
    "# root@jupyter-spark:/# nc -lp 9999\n",
    "ssc.start()\n",
    "sleep(20)\n",
    "ssc.stop()"
   ]
  },
  {
   "cell_type": "markdown",
   "metadata": {},
   "source": [
    "## Exercício DStream - Word Count"
   ]
  },
  {
   "cell_type": "markdown",
   "metadata": {},
   "source": [
    "### 1. Criar o diretório no hdfs “/user/rodrigo/stream”"
   ]
  },
  {
   "cell_type": "code",
   "execution_count": 6,
   "metadata": {},
   "outputs": [],
   "source": [
    "!hdfs dfs -mkdir /user/manoel/stream"
   ]
  },
  {
   "cell_type": "markdown",
   "metadata": {},
   "source": [
    "### 2. Criar uma aplicação para contar palavras a cada 10 segundos da porta 9998 e exibir no console durante 50 segundos"
   ]
  },
  {
   "cell_type": "code",
   "execution_count": 9,
   "metadata": {},
   "outputs": [],
   "source": [
    "from pyspark import SparkContext\n",
    "from pyspark.streaming import StreamingContext\n",
    "from time import sleep"
   ]
  },
  {
   "cell_type": "code",
   "execution_count": 10,
   "metadata": {},
   "outputs": [],
   "source": [
    "conf = SparkConf().setMaster(\"local[*]\").setAppName(\"Dstream WordCount\")\n",
    "sc = SparkContext.getOrCreate(conf)\n",
    "ssc = StreamingContext(sc, 10)"
   ]
  },
  {
   "cell_type": "code",
   "execution_count": 11,
   "metadata": {},
   "outputs": [],
   "source": [
    "dstream = ssc.socketTextStream(\"localhost\", 9998)"
   ]
  },
  {
   "cell_type": "code",
   "execution_count": 13,
   "metadata": {},
   "outputs": [],
   "source": [
    "wordcount = dstream.flatMap(lambda linha: linha.split(\" \"))\\\n",
    "                   .map(lambda palavra: (palavra,1))\\\n",
    "                   .reduceByKey(lambda chave1, chave2: chave1+chave2)\n",
    "wordcount.pprint()"
   ]
  },
  {
   "cell_type": "code",
   "execution_count": 14,
   "metadata": {},
   "outputs": [
    {
     "name": "stdout",
     "output_type": "stream",
     "text": [
      "-------------------------------------------\n",
      "Time: 2022-04-19 22:43:40\n",
      "-------------------------------------------\n",
      "\n",
      "-------------------------------------------\n",
      "Time: 2022-04-19 22:43:50\n",
      "-------------------------------------------\n",
      "('Manoel', 1)\n",
      "('teste', 1)\n",
      "\n",
      "-------------------------------------------\n",
      "Time: 2022-04-19 22:44:00\n",
      "-------------------------------------------\n",
      "('Nascimento', 1)\n",
      "\n",
      "-------------------------------------------\n",
      "Time: 2022-04-19 22:44:10\n",
      "-------------------------------------------\n",
      "('d', 1)\n",
      "('b', 1)\n",
      "('a', 1)\n",
      "('c', 1)\n",
      "\n",
      "-------------------------------------------\n",
      "Time: 2022-04-19 22:44:20\n",
      "-------------------------------------------\n",
      "\n"
     ]
    }
   ],
   "source": [
    "ssc.start()\n",
    "sleep(50)\n",
    "ssc.stop()"
   ]
  },
  {
   "cell_type": "markdown",
   "metadata": {},
   "source": [
    "### 3. Criar uma aplicação para contar palavras a cada 10 segundos da porta 9998 e salvar os dados no namenode no diretório “hdfs://namenode/user/rodrigo/stream/word_count” durante 50 segundos"
   ]
  },
  {
   "cell_type": "code",
   "execution_count": 15,
   "metadata": {},
   "outputs": [],
   "source": [
    "from pyspark import SparkContext\n",
    "from pyspark.streaming import StreamingContext\n",
    "from time import sleep"
   ]
  },
  {
   "cell_type": "code",
   "execution_count": 16,
   "metadata": {},
   "outputs": [],
   "source": [
    "conf = SparkConf().setMaster(\"local[*]\").setAppName(\"Dstream WordCount\")\n",
    "sc = SparkContext.getOrCreate(conf)\n",
    "ssc = StreamingContext(sc, 10)"
   ]
  },
  {
   "cell_type": "code",
   "execution_count": 17,
   "metadata": {},
   "outputs": [],
   "source": [
    "dstream = ssc.socketTextStream(\"localhost\", 9998)"
   ]
  },
  {
   "cell_type": "code",
   "execution_count": 18,
   "metadata": {},
   "outputs": [],
   "source": [
    "wordcount = dstream.flatMap(lambda linha: linha.split(\" \"))\\\n",
    "                   .map(lambda palavra: (palavra,1))\\\n",
    "                   .reduceByKey(lambda chave1, chave2: chave1+chave2)"
   ]
  },
  {
   "cell_type": "code",
   "execution_count": 19,
   "metadata": {},
   "outputs": [],
   "source": [
    "wordcount.saveAsTextFiles(\"/user/manoel/stream/word_count\")"
   ]
  },
  {
   "cell_type": "code",
   "execution_count": 20,
   "metadata": {},
   "outputs": [],
   "source": [
    "ssc.start()\n",
    "sleep(50)\n",
    "ssc.stop()"
   ]
  },
  {
   "cell_type": "code",
   "execution_count": 21,
   "metadata": {},
   "outputs": [
    {
     "name": "stdout",
     "output_type": "stream",
     "text": [
      "Found 5 items\r\n",
      "drwxr-xr-x   - root supergroup          0 2022-04-19 22:55 /user/manoel/stream/word_count-1650408920000\r\n",
      "drwxr-xr-x   - root supergroup          0 2022-04-19 22:55 /user/manoel/stream/word_count-1650408930000\r\n",
      "drwxr-xr-x   - root supergroup          0 2022-04-19 22:55 /user/manoel/stream/word_count-1650408940000\r\n",
      "drwxr-xr-x   - root supergroup          0 2022-04-19 22:55 /user/manoel/stream/word_count-1650408950000\r\n",
      "drwxr-xr-x   - root supergroup          0 2022-04-19 22:56 /user/manoel/stream/word_count-1650408960000\r\n"
     ]
    }
   ],
   "source": [
    "!hdfs dfs -ls /user/manoel/stream"
   ]
  },
  {
   "cell_type": "code",
   "execution_count": 24,
   "metadata": {
    "scrolled": true
   },
   "outputs": [
    {
     "name": "stdout",
     "output_type": "stream",
     "text": [
      "Found 4 items\r\n",
      "-rw-r--r--   2 root supergroup          0 2022-04-19 22:55 /user/manoel/stream/word_count-1650408940000/_SUCCESS\r\n",
      "-rw-r--r--   2 root supergroup          0 2022-04-19 22:55 /user/manoel/stream/word_count-1650408940000/part-00000\r\n",
      "-rw-r--r--   2 root supergroup         22 2022-04-19 22:55 /user/manoel/stream/word_count-1650408940000/part-00001\r\n",
      "-rw-r--r--   2 root supergroup          9 2022-04-19 22:55 /user/manoel/stream/word_count-1650408940000/part-00002\r\n"
     ]
    }
   ],
   "source": [
    "!hdfs dfs -ls /user/manoel/stream/word_count-1650408940000"
   ]
  },
  {
   "cell_type": "code",
   "execution_count": 25,
   "metadata": {},
   "outputs": [
    {
     "name": "stdout",
     "output_type": "stream",
     "text": [
      "('teste', 3)\r\n",
      "('b', 1)\r\n"
     ]
    }
   ],
   "source": [
    "!hdfs dfs -cat /user/manoel/stream/word_count-1650408940000/part-00001"
   ]
  }
 ],
 "metadata": {
  "kernelspec": {
   "display_name": "PySpark",
   "language": "python",
   "name": "pyspark"
  },
  "language_info": {
   "codemirror_mode": {
    "name": "ipython",
    "version": 3
   },
   "file_extension": ".py",
   "mimetype": "text/x-python",
   "name": "python",
   "nbconvert_exporter": "python",
   "pygments_lexer": "ipython3",
   "version": "3.6.10"
  }
 },
 "nbformat": 4,
 "nbformat_minor": 2
}
